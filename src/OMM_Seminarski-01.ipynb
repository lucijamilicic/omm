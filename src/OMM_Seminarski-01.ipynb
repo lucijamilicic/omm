{
 "cells": [
  {
   "cell_type": "code",
   "execution_count": 1,
   "metadata": {},
   "outputs": [],
   "source": [
    "import matplotlib.pyplot as plt\n",
    "import math\n",
    "import numpy as np"
   ]
  },
  {
   "cell_type": "code",
   "execution_count": 2,
   "metadata": {},
   "outputs": [],
   "source": [
    "def izracunajA(a, b, A0, B0, t):\n",
    "    return ((math.sqrt(a*b)*A0 - a*B0)/(2*math.sqrt(a*b))*(math.e**(math.sqrt(a*b)*t))) + ((math.sqrt(a*b)*A0 + a*B0)/(2*math.sqrt(a*b))*(math.e**(-math.sqrt(a*b)*t)))"
   ]
  },
  {
   "cell_type": "code",
   "execution_count": 3,
   "metadata": {},
   "outputs": [],
   "source": [
    "def izracunajB(a, b, A0, B0, t):\n",
    "    return ((math.sqrt(a*b)*B0 - b*A0)/(2*math.sqrt(a*b))*(math.e**(math.sqrt(a*b)*t))) + ((math.sqrt(a*b)*B0 + b*A0)/(2*math.sqrt(a*b))*(math.e**(-math.sqrt(a*b)*t)))"
   ]
  },
  {
   "cell_type": "code",
   "execution_count": 4,
   "metadata": {},
   "outputs": [],
   "source": [
    "def odrediTrenutakPobede(a, b, A0, B0):\n",
    "    for i in list(odrediInterval(0, 100, 0.01)):\n",
    "        if izracunajA(a, b, A0, B0, i) <= 0 or izracunajB(a, b, A0, B0, i) <= 0:\n",
    "            return i-0.00001\n",
    "    return i"
   ]
  },
  {
   "cell_type": "code",
   "execution_count": 5,
   "metadata": {},
   "outputs": [],
   "source": [
    "def odrediInterval(pocetak, kraj, korak):\n",
    "    interval = []\n",
    "    while pocetak < kraj:\n",
    "        interval.append(pocetak)\n",
    "        pocetak += korak\n",
    "    return interval"
   ]
  },
  {
   "cell_type": "code",
   "execution_count": 6,
   "metadata": {},
   "outputs": [],
   "source": [
    "def simulirajBitku(a, b, A0, B0):\n",
    "    trenutakPobede = odrediTrenutakPobede(a, b, A0, B0)\n",
    "    t = np.array(list(odrediInterval(0, trenutakPobede, 0.001)))\n",
    "    A = izracunajA(a, b, A0, B0, t)\n",
    "    B = izracunajB(a, b, A0, B0, t)\n",
    "    \n",
    "    plt.plot(t, A, label='Vojska A')\n",
    "    plt.plot(t, B, label='Vojska B')\n",
    "\n",
    "    plt.legend(loc='upper right')\n",
    "    plt.xlabel('Vreme t')\n",
    "    plt.ylabel('brojnost vojske')\n",
    "\n",
    "    bottom, top = plt.ylim()\n",
    "    plt.show()\n",
    "\n",
    "    if (b*A0**2 > a*B0**2):\n",
    "        print(\"Pobedjuje A!\")\n",
    "    elif (b*A0**2 < a*B0**2):\n",
    "        print(\"Pobedjuje B!\")\n",
    "    else:\n",
    "        print(\"Neodlucna bitka!\")"
   ]
  },
  {
   "cell_type": "code",
   "execution_count": 7,
   "metadata": {},
   "outputs": [
    {
     "data": {
      "image/png": "[encoded data removed]",
      "text/plain": [
       "<Figure size 432x288 with 1 Axes>"
      ]
     },
     "metadata": {
      "needs_background": "light"
     },
     "output_type": "display_data"
    },
    {
     "name": "stdout",
     "output_type": "stream",
     "text": [
      "Pobedjuje A!\n"
     ]
    }
   ],
   "source": [
    "a = 1\n",
    "b = 2\n",
    "A0 = 500\n",
    "B0 = 700\n",
    "simulirajBitku(a, b, A0, B0)"
   ]
  },
  {
   "cell_type": "markdown",
   "metadata": {},
   "source": [
    "Sledeca funkcija ispituje ko pobedjuje u zavisnosti od ubojitosti - mi joj dajemo brojnost naste i protivnicke vojske, a ona nam vraca predvidjanje pobede u zavisnosti od mogucih koeficijenata ubojitosti"
   ]
  },
  {
   "cell_type": "code",
   "execution_count": 8,
   "metadata": {},
   "outputs": [],
   "source": [
    "def odrediPobednika(a, b, A0, B0):\n",
    "    if (b*A0**2 > a*B0**2):\n",
    "        return \"A\"\n",
    "    elif (b*A0**2 < a*B0**2):\n",
    "        return \"B\"\n",
    "    else:\n",
    "        return \"D\"\n",
    "\n",
    "def simulirajBitku2(A0, B0):\n",
    "    N = 50\n",
    "    r = np.array(list(range(N)))\n",
    "    pobednici = np.zeros((N, N))\n",
    "    \n",
    "# za svaki x y nadjemo ko je pobedio\n",
    "# onaj ko je pobedio -> koord idu u odg niz\n",
    "# nasa ubojitost b\n",
    "    for x in r:\n",
    "        # protivnicka ubojitost a\n",
    "        for y in r:\n",
    "            if x==0 or y==0:\n",
    "                continue\n",
    "            w = odrediPobednika(y, x, A0, B0)\n",
    "            if (w == \"A\"):\n",
    "                # winnerA[x] = y\n",
    "                pobednici[y][x] = 1\n",
    "                # winnerA[x].append(y)\n",
    "            elif (w == \"B\"):\n",
    "                # winnerB[x] = y\n",
    "                pobednici[y][x] = -1\n",
    "            # else:\n",
    "                # drawn[x] = y\n",
    "    \n",
    "    noviPobednici = np.delete(pobednici, 0, 0)\n",
    "    noviPobednici = np.delete(noviPobednici, 0, 1)\n",
    "\n",
    "    plt.imshow(noviPobednici)\n",
    "    plt.xlabel('Ubojitost vojske A')\n",
    "    plt.ylabel('Ubojitost vojske B')\n",
    "\n",
    "    plt.colorbar()\n",
    "    plt.show()"
   ]
  },
  {
   "cell_type": "code",
   "execution_count": 9,
   "metadata": {},
   "outputs": [
    {
     "data": {
      "image/png": "[encoded data removed]",
      "text/plain": [
       "<Figure size 432x288 with 2 Axes>"
      ]
     },
     "metadata": {
      "needs_background": "light"
     },
     "output_type": "display_data"
    }
   ],
   "source": [
    "simulirajBitku2(500, 500)"
   ]
  },
  {
   "cell_type": "markdown",
   "metadata": {},
   "source": [
    "Ljubicasta oznacava pobedu protivnika (vojske B), zuta nasu pobedu (vojske A) a ova zelenkasta je nereseno"
   ]
  },
  {
   "cell_type": "code",
   "execution_count": 10,
   "metadata": {},
   "outputs": [
    {
     "data": {
      "image/png": "[encoded data removed]",
      "text/plain": [
       "<Figure size 432x288 with 2 Axes>"
      ]
     },
     "metadata": {
      "needs_background": "light"
     },
     "output_type": "display_data"
    }
   ],
   "source": [
    "simulirajBitku2(500, 1000)"
   ]
  }
 ],
 "metadata": {
  "kernelspec": {
   "display_name": "Python 3",
   "language": "python",
   "name": "python3"
  },
  "language_info": {
   "codemirror_mode": {
    "name": "ipython",
    "version": 3
   },
   "file_extension": ".py",
   "mimetype": "text/x-python",
   "name": "python",
   "nbconvert_exporter": "python",
   "pygments_lexer": "ipython3",
   "version": "3.6.9"
  }
 },
 "nbformat": 4,
 "nbformat_minor": 4
}
